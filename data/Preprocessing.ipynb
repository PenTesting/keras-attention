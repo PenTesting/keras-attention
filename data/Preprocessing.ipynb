{
 "cells": [
  {
   "cell_type": "code",
   "execution_count": 12,
   "metadata": {
    "collapsed": true
   },
   "outputs": [],
   "source": [
    "import pandas as pd\n",
    "df1=pd.read_csv(\"validation_complete1.csv\")\n",
    "df=pd.read_csv(\"training_complete1.csv\")\n",
    "df[\"inputs\"]=df[\"inputs\"]+\"<eos>\"\n",
    "df[\"outputs\"]=df[\"outputs\"]+\"<eos>\"\n",
    "df1[\"inputs\"]=df1[\"inputs\"]+\"<eos>\"\n",
    "df1[\"outputs\"]=df1[\"outputs\"]+\"<eos>\"\n",
    "df.to_csv(\"training_complete1.csv\")\n",
    "df1.to_csv(\"validation_complete1.csv\")"
   ]
  },
  {
   "cell_type": "code",
   "execution_count": 16,
   "metadata": {
    "collapsed": false
   },
   "outputs": [],
   "source": [
    "import pandas as pd\n",
    "df1=pd.read_csv(\"validation_complete1.csv\")\n",
    "df=pd.read_csv(\"training_complete1.csv\")"
   ]
  },
  {
   "cell_type": "code",
   "execution_count": 25,
   "metadata": {
    "collapsed": false
   },
   "outputs": [],
   "source": [
    "df1.drop([\"Unnamed: 0.1\"],inplace=True,axis=1)"
   ]
  },
  {
   "cell_type": "code",
   "execution_count": 26,
   "metadata": {
    "collapsed": false
   },
   "outputs": [
    {
     "data": {
      "text/plain": [
       "Index(['inputs', 'outputs'], dtype='object')"
      ]
     },
     "execution_count": 26,
     "metadata": {},
     "output_type": "execute_result"
    }
   ],
   "source": [
    "df.columns"
   ]
  },
  {
   "cell_type": "code",
   "execution_count": 27,
   "metadata": {
    "collapsed": false
   },
   "outputs": [],
   "source": [
    "df.to_csv(\"training_complete1.csv\")\n",
    "df1.to_csv(\"validation_complete1.csv\")"
   ]
  },
  {
   "cell_type": "code",
   "execution_count": null,
   "metadata": {
    "collapsed": true
   },
   "outputs": [],
   "source": []
  }
 ],
 "metadata": {
  "kernelspec": {
   "display_name": "Python [conda root]",
   "language": "python",
   "name": "conda-root-py"
  },
  "language_info": {
   "codemirror_mode": {
    "name": "ipython",
    "version": 3
   },
   "file_extension": ".py",
   "mimetype": "text/x-python",
   "name": "python",
   "nbconvert_exporter": "python",
   "pygments_lexer": "ipython3",
   "version": "3.5.4"
  }
 },
 "nbformat": 4,
 "nbformat_minor": 0
}
